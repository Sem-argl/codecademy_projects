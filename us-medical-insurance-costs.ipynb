{
 "cells": [
  {
   "cell_type": "markdown",
   "metadata": {},
   "source": [
    "# U.S. Medical Insurance Costs"
   ]
  },
  {
   "cell_type": "markdown",
   "metadata": {},
   "source": [
    "[planning & hypothesis](https://docs.google.com/spreadsheets/d/1cAif4qx2rZQ0XrCXViLCE6fNPKJ21qYvGSIgp4zFn4g/edit#gid=0)"
   ]
  },
  {
   "cell_type": "markdown",
   "metadata": {},
   "source": [
    "## Preparing data"
   ]
  },
  {
   "cell_type": "code",
   "execution_count": 7,
   "metadata": {},
   "outputs": [],
   "source": [
    "a,b,c,d,e,f,g = [],[],[],[],[],[],[]\n",
    "Age,Sex,Bmi,Children,Smoker,Region,Charge = [],[],[],[],[],[],[]\n",
    "# reading data\n",
    "import csv\n",
    "with open('insurance.csv', newline='') as insurance_csv:\n",
    "    insurance_reader = csv.DictReader(insurance_csv, delimiter = \",\")\n",
    "        \n",
    "# split data in to separate lists\n",
    "    for row in insurance_reader:\n",
    "        a += [int(row[\"age\"])]        \n",
    "        b += [row[\"sex\"]]        \n",
    "        c += [float(row[\"bmi\"])]      \n",
    "        d += [int(row[\"children\"])]       \n",
    "        e += [row[\"smoker\"]]      \n",
    "        f += [row[\"region\"]]\n",
    "        g += [float(row[\"charges\"])]\n",
    "    Age = sorted(a)\n",
    "    Sex = sorted(b) \n",
    "    Bmi = sorted(c)\n",
    "    Children = sorted(d)\n",
    "    Smoker = sorted(e)\n",
    "    Region = sorted(f)\n",
    "    Charge = sorted(g)"
   ]
  },
  {
   "cell_type": "markdown",
   "metadata": {},
   "source": [
    "## Data analysis"
   ]
  },
  {
   "cell_type": "markdown",
   "metadata": {},
   "source": [
    "### some quick results"
   ]
  },
  {
   "cell_type": "code",
   "execution_count": 3,
   "metadata": {
    "scrolled": true
   },
   "outputs": [
    {
     "name": "stdout",
     "output_type": "stream",
     "text": [
      " max_age 64 \n",
      " average_age 39.21 \n",
      " min_age 18 \n",
      "\n",
      " max_bmi 53.13 \n",
      " average_bmi 30.66 \n",
      " min_bmi 15.96 \n",
      "\n",
      " max_children 5 \n",
      " average_children 1.09 \n",
      " min_children 0 \n",
      "\n",
      " max_charge 63770.42801 \n",
      " average_charge 13270.42 \n",
      " min_charge 1121.8739 \n",
      "\n",
      " total_males 676 \n",
      " total_females 662\n",
      " total_smokers 274 \n",
      " total_not_smokers 1064\n",
      " total_with_children 764 \n",
      " total_without_children 574\n"
     ]
    }
   ],
   "source": [
    "# min/max/average\n",
    "\n",
    "def average(dictionary):\n",
    "    return(sum(dictionary)/len(dictionary))\n",
    "average_age = round(average(Age),2)\n",
    "max_age = max(Age)\n",
    "min_age = min(Age)\n",
    "\n",
    "average_bmi = round(average(Bmi),2)\n",
    "max_bmi = max(Bmi)\n",
    "min_bmi = min(Bmi)\n",
    "\n",
    "average_children = round(average(Children),2)\n",
    "max_children = max(Children)\n",
    "min_children = min(Children)\n",
    "\n",
    "average_charge = round(average(Charge),2)\n",
    "max_charge = max(Charge)\n",
    "min_charge = min(Charge)\n",
    "\n",
    "print(\" max_age\", max_age, \"\\n\", \"average_age\", average_age, \"\\n\",\"min_age\", min_age, \"\\n\",)\n",
    "print(\" max_bmi\", max_bmi, \"\\n\", \"average_bmi\", average_bmi, \"\\n\", \"min_bmi\", min_bmi, \"\\n\", )\n",
    "print(\" max_children\", max_children, \"\\n\", \"average_children\", average_children, \"\\n\", \"min_children\", min_children, \"\\n\", )\n",
    "print(\" max_charge\", max_charge, \"\\n\", \"average_charge\", average_charge, \"\\n\", \"min_charge\", min_charge, \"\\n\")\n",
    "\n",
    "# binary\n",
    "total_males = Sex.count(\"male\")\n",
    "total_females = Sex.count(\"female\")\n",
    "\n",
    "total_smokers = Smoker.count(\"yes\")\n",
    "total_not_smokers = Smoker.count(\"no\")\n",
    "\n",
    "total_without_children = Children.count(0)\n",
    "total_with_children = len(Children) - total_without_children\n",
    "\n",
    "print(\" total_males\", total_males, \"\\n\", \"total_females\", total_females)\n",
    "print(\" total_smokers\", total_smokers, \"\\n\", \"total_not_smokers\", total_not_smokers)\n",
    "print(\" total_with_children\", total_with_children, \"\\n\", \"total_without_children\", total_without_children)\n",
    "\n"
   ]
  },
  {
   "cell_type": "markdown",
   "metadata": {},
   "source": [
    "## investigate charge dependence"
   ]
  },
  {
   "cell_type": "code",
   "execution_count": 21,
   "metadata": {},
   "outputs": [],
   "source": [
    "def charge_depenence(charge, age, sex, bmi, children, smoker, region):\n",
    "    charge_dict = {}\n",
    "    for i in range(len(Charge)):\n",
    "        charge_dict[charge[i]] = {\"age\":age[i], \"sex\":sex[i], \"bmi\":bmi[i], \"children\":children[i], \"smoker\":smoker[i], \"region\":region[i]}\n",
    "    # sort dictionary in descending order:\n",
    "    return({a:b for a,b in sorted(charge_dict.items(), key = lambda t:t[0], reverse = True)})\n",
    "# I have muted \"print\" function here because it throw long list of data that makes whole document less readable,\n",
    "# but the lis it self was used to analyse data\n",
    "#print(charge_depenence(g, a, b, c, d, e, f))"
   ]
  },
  {
   "cell_type": "markdown",
   "metadata": {},
   "source": [
    " \n",
    "maximum carge is 4,8 times higher than average\n",
    "\n",
    "minimum charge is 11,8 times lower than everage\n",
    "\n",
    "***First significant impact for charge is smoking:***\n",
    "- the highest charge for non smoker is almost 2 times less than highest charge for smoker. - if you not smoking you automatically reduce your maximum charge by 2 times\n",
    "- the lowes charge for smoker is slightly lower than average charge and 10 times bigger than lowest for non smoker. - if you smoking your charge automatically raises to round average value.\n",
    "\n",
    "***Second significant impact for charge is age:*** \n",
    "- if you look at persons who is 64 years old the lowest charge is around average (for other persons of the same age charge is bigger) - so if you are old you should not count on charge less than average\n",
    "- on another hand being young did not automatically prevent you from having high charge. ofcourse the cheapest charges belongs to youngest people but there are also 18 years old persons with charge fare abowe average.\n",
    "\n",
    "***Gender influence:***\n",
    "- if to look at charge destributions betwean male/female, one can say it is equaly destributed betwen them across all ages and prices exept for the cheapest charges (bottom 4,4%) where males totaly dominates. it looks like being a male gives you some advantage in charge, for higher charge prices this advantage can be negatiated by other parameters (bmi, age, children, smoke) while for cheapest charge you must meet \"perfect\" condition( 0 children, non smoker, optimal bmi, lowest age) and betwean male and female who meet perfect conditions male have lover charge.\n",
    "\n",
    "***Children influence:***\n",
    "- same as for gender, nuber of childrens, seems have no significant impact to charge - all amounts of childrens more les equaly can be met at difefent charge levels, exept for bottom 4 %of cheapest charges - all have no children. 5 children is rare compare to other amounts.\n",
    "\n",
    "***Bmi influence*** \n",
    "- no significant impact, different bmi values equaly spreded across charge values."
   ]
  },
  {
   "cell_type": "code",
   "execution_count": 4,
   "metadata": {},
   "outputs": [
    {
     "name": "stdout",
     "output_type": "stream",
     "text": [
      "['southwest', 325]\n",
      "['southeast', 364]\n",
      "['northwest', 325]\n",
      "['northeast', 324]\n"
     ]
    }
   ],
   "source": [
    "# count number of people from different areas\n",
    "t= set(Region)\n",
    "for i in t:\n",
    "    b = []\n",
    "    f = Region.count(i)\n",
    "    b = [i,f]\n",
    "    print(b)"
   ]
  },
  {
   "cell_type": "markdown",
   "metadata": {},
   "source": [
    "People are equally spread among territories, there is slightly more people from southeast - 364 compareto 325 in other territories"
   ]
  },
  {
   "cell_type": "code",
   "execution_count": 5,
   "metadata": {},
   "outputs": [
    {
     "name": "stdout",
     "output_type": "stream",
     "text": [
      "Average age for people with at least 1 children is 39.78 years\n"
     ]
    }
   ],
   "source": [
    "# average age for people with at least 1 chaild\n",
    "l = zip(d,a)\n",
    "count = 0\n",
    "z = 0\n",
    "for i in l:\n",
    "    #print(i)\n",
    "    if i[0] != 0:\n",
    "        count += 1\n",
    "        z += i[1]\n",
    "average_age = round(z/count,2)\n",
    "print(\"Average age for people with at least 1 children is\", average_age, \"years\")"
   ]
  },
  {
   "cell_type": "markdown",
   "metadata": {},
   "source": [
    "## investigate bmi"
   ]
  },
  {
   "cell_type": "code",
   "execution_count": 10,
   "metadata": {
    "scrolled": false
   },
   "outputs": [
    {
     "name": "stdout",
     "output_type": "stream",
     "text": [
      "persent_low_bmi 1.49 persent_norm_bmi 16.82 persent_high_bmi 28.85 persent_wery_high_bmi 52.84\n"
     ]
    }
   ],
   "source": [
    "# to make it easier to investigate bmi I decided to split it in to categories\n",
    "# bmi categories:\n",
    "bmi_low = 18.5\n",
    "bmi_norm = 25\n",
    "bmi_high = 30\n",
    "#-----------------\n",
    "def bmi_categories():\n",
    "    bmi_categories_list = []\n",
    "    for i in c:\n",
    "        if i < bmi_low:\n",
    "            bmi_categories_list += [\"low\"]\n",
    "        elif (i >= bmi_low and i < bmi_norm):\n",
    "            bmi_categories_list += [\"norm\"]       \n",
    "        elif (i >= bmi_norm and i < bmi_high):\n",
    "            bmi_categories_list += [\"high\"]       \n",
    "        elif i >= bmi_high:\n",
    "            bmi_categories_list += [\"wery high\"]\n",
    "    return(bmi_categories_list)\n",
    "# calculate % of each category         \n",
    "persent_low_bmi = round(100*bmi_categories().count(\"low\")/len(bmi_categories()),2)\n",
    "low_bmi = bmi_categories().count(\"low\")\n",
    "persent_norm_bmi = round(100*bmi_categories().count(\"norm\")/len(bmi_categories()),2)\n",
    "persent_high_bmi = round(100*bmi_categories().count(\"high\")/len(bmi_categories()),2)\n",
    "persent_wery_high_bmi = round(100*bmi_categories().count(\"wery high\")/len(bmi_categories()),2)\n",
    "\n",
    "print(\"persent_low_bmi\", persent_low_bmi, \"persent_norm_bmi\", persent_norm_bmi, \"persent_high_bmi\", persent_high_bmi, \"persent_wery_high_bmi\", persent_wery_high_bmi)\n",
    "\n",
    "charge_dict_bmi_visible = {}\n",
    "charge_dict_bmi_visible = charge_depenence(g, a, b, bmi_categories(), d, e, f)\n",
    "#print({a:b for a,b in sorted(charge_dict_bmi_visible.items(), key = lambda t:t[0], reverse = True)})"
   ]
  },
  {
   "cell_type": "code",
   "execution_count": 11,
   "metadata": {},
   "outputs": [
    {
     "name": "stdout",
     "output_type": "stream",
     "text": [
      "tottal in category: 20 \n",
      " distribution of people by region: {'northwest': 7, 'northeast': 10, 'southwest': 3, 'southeast': []}\n"
     ]
    }
   ],
   "source": [
    "def bmi_category_count(category):\n",
    "# combine area and bmi catrgory lists\n",
    "    area_bmi = zip(f,bmi_categories())\n",
    "    area_bmi_readable = []\n",
    "    for i in area_bmi:\n",
    "        area_bmi_readable += [list(i)]\n",
    "# total people in this category\n",
    "    total = 0\n",
    "    for i in area_bmi_readable:\n",
    "        if i[1] == category:\n",
    "            total +=1\n",
    "#figure out dystribution  of people of this category by regions\n",
    "    vc = {\"northwest\":[], \"northeast\":[], \"southwest\":[], \"southeast\":[]}\n",
    "    count = 0\n",
    "    for i in area_bmi_readable:\n",
    "        if (i[1]  == category and i[0] == 'northwest'):\n",
    "            count += 1 \n",
    "            vc['northwest'] = count\n",
    "    count = 0\n",
    "    for i in area_bmi_readable:\n",
    "        if (i[1]  == category and i[0] == \"northeast\"):\n",
    "            count += 1         \n",
    "            vc[\"northeast\"] = count\n",
    "    count = 0\n",
    "    for i in area_bmi_readable:\n",
    "        if (i[1]  == category and i[0] == \"southwest\"):\n",
    "            count += 1 \n",
    "            vc[\"southwest\"] = count\n",
    "    count = 0\n",
    "    for i in area_bmi_readable:\n",
    "        if (i[1]  == category and i[0] == \"southeast\"):\n",
    "            count += 1 \n",
    "            vc[\"southeast\"] = count        \n",
    "    return(vc,total)\n",
    "#by changing \"low\" to another bmi category in next two lines one can see different values from print command at \"total in category:\"\n",
    "total = bmi_category_count(\"low\")[1]\n",
    "distribution = bmi_category_count(\"low\")[0]\n",
    "\n",
    "print(\"tottal in category:\", total, \"\\n distribution of people by region:\", distribution)"
   ]
  },
  {
   "cell_type": "markdown",
   "metadata": {},
   "source": [
    "|category   |northwest         |northeast         |southwest         |southeast       |\n",
    "|:---       |:---              |:---              |:---              |:---            |\n",
    "|low \t\t| 7                | 10               |3                 |[]              |\n",
    "|norm\t\t|63                | 73               | 48               | 41             |\n",
    "|high\t\t| 107              | 98               | 101              | 80             |\n",
    "|wery high\t|148               | 143              | 173              |             243|\n",
    "\n",
    " - my suggestion that people in some region are starving was wrong, people with low bmi spread among all regions except southeast area. \n",
    " - people in northeast at least trying to keep fit, some even to much. in that region there is the smallest amount of people with wery high bmi, the most people with normal bmi, and the most with low bmi.\n",
    " - people in southeast don't think about their fit, in this region have most people with  very high bmi and 0 low bmi.\n",
    " \n",
    "this info can be interesting to business owners in that region (what kind of goods to offer based on keep fit tendency in the region) and for authorities maybe to motivate/influence \"very high\" bmi in some regions"
   ]
  },
  {
   "cell_type": "markdown",
   "metadata": {},
   "source": [
    "general profile of average person from the dataset is: either male or female whose age around 40 with 1 child and high bmi that is not smoking"
   ]
  },
  {
   "cell_type": "markdown",
   "metadata": {},
   "source": [
    "## other couples from to do list"
   ]
  },
  {
   "cell_type": "markdown",
   "metadata": {},
   "source": [
    "### age"
   ]
  },
  {
   "cell_type": "markdown",
   "metadata": {},
   "source": [
    "age - bmi"
   ]
  },
  {
   "cell_type": "code",
   "execution_count": 20,
   "metadata": {},
   "outputs": [],
   "source": [
    "def couples_comprison(list1,list2):\n",
    "    list1_listw = zip(list1,list2)\n",
    "    list1_listw_readable = []\n",
    "    for i in list1_listw:\n",
    "        list1_listw_readable += [list(i)]\n",
    "    sorted_list = [[a,b] for a,b in sorted(list1_listw_readable) ]\n",
    "    return(sorted_list)\n",
    "# categorize lists\n",
    "#age:\n",
    "def categorize_age(age_something_list):\n",
    "    young = 30\n",
    "    mature = 60\n",
    "    categorized_copy = []\n",
    "    for i in age_something_list:\n",
    "        if i[0] < young:\n",
    "            categorized_copy += [[\"young\", i[1]]]\n",
    "        if i[0] >= young and i[0] < mature:\n",
    "            categorized_copy += [[\"mature\", i[1]]]\n",
    "        if i[0] >= mature:\n",
    "            categorized_copy += [[\"old\", i[1]]]\n",
    "    return(categorized_copy)\n",
    "#categorize\n",
    "#bmi\n",
    "def categorize_bmi(someting_bmi_list):\n",
    "    for i in someting_bmi_list:\n",
    "        if i[1] < bmi_low:\n",
    "            i[1] = \"low\"\n",
    "        elif (i[1] >= bmi_low and i[1] < bmi_norm):\n",
    "            i[1] = \"norm\"       \n",
    "        elif (i[1] >= bmi_norm and i[1] < bmi_high):\n",
    "            i[1] = \"high\"       \n",
    "        elif i[1] >= bmi_high:\n",
    "            i[1] = \"wery high\"\n",
    "    return(someting_bmi_list)\n",
    "# I have muted \"print\" function here because it throw long list of data that makes whole document less readable,\n",
    "# but the lis it self was used to analyse data\n",
    "#print([[a,b] for a,b in sorted(categorize_bmi(categorize_age(couples_comprison(a,c))), key = lambda t:t[1])])"
   ]
  },
  {
   "cell_type": "markdown",
   "metadata": {},
   "source": [
    "it seems there is no obvious/significant correlation between age and bmi.\n",
    "3 observations:\n",
    "- there is only 1 person with low bmi among old category\n",
    "- young kategory is not homogenues\n",
    "- very few of old people have normal bmi, the rest high and very high"
   ]
  },
  {
   "cell_type": "markdown",
   "metadata": {},
   "source": [
    "age - children"
   ]
  },
  {
   "cell_type": "code",
   "execution_count": 14,
   "metadata": {},
   "outputs": [
    {
     "name": "stdout",
     "output_type": "stream",
     "text": [
      " number of chilrens(0-5) - number of pepole who have tha tmuch childrens: \n",
      " [[0, 574], [1, 324], [2, 240], [3, 157], [4, 25], [5, 18]] \n",
      "\n",
      "[['young 0', 243], ['young 1', 75], ['young 2', 58], ['young 3', 29], ['young 4', 7], ['young 5', 5], ['mature 0', 251], ['mature 1', 236], ['mature 2', 173], ['mature 3', 117], ['mature 4', 17], ['mature 5', 13], ['old 0', 80], ['old 1', 13], ['old 2', 9], ['old 3', 11], ['old 4', 1], ['old 5', 0]]\n"
     ]
    }
   ],
   "source": [
    "age_children = [[a,b] for a,b in sorted(categorize_age(couples_comprison(a,d)), key = lambda t:t[1])]\n",
    "\n",
    "ch_num = [0,1,2,3,4,5]\n",
    "age_categories = [\"young\", \"mature\", \"old\"]\n",
    "number_distrub = []\n",
    "age_distrub = []\n",
    "for i in ch_num:\n",
    "    number_distrub += [[i,d.count(i)]]\n",
    "#print(age_children)\n",
    "print(\" number of chilrens(0-5) - number of pepole who have tha tmuch childrens: \\n\",number_distrub,\"\\n\")\n",
    "def age_ch_num_dist(age_ctegory):\n",
    "    age_distrub = []\n",
    "    for i in age_categories:\n",
    "        for number in ch_num:\n",
    "            count = 0\n",
    "            for age_children_cuple in age_children:\n",
    "                if (age_children_cuple[0] == i) and (age_children_cuple[1] == number):\n",
    "                    count +=1\n",
    "            age_distrub += [[(i +\" \"+ str(number)),count]]           \n",
    "    return(age_distrub)\n",
    "print(age_ch_num_dist(\"young\"))"
   ]
  },
  {
   "cell_type": "markdown",
   "metadata": {},
   "source": [
    "around 40% of all people have no children, most of those who have children have 1-2 childrens, among each group (young/mature/old) people without children are the biggest par. atbit wierd to see 18-19 year old with 5 childrens\n"
   ]
  },
  {
   "cell_type": "markdown",
   "metadata": {},
   "source": [
    "age - smoke"
   ]
  },
  {
   "cell_type": "code",
   "execution_count": 91,
   "metadata": {},
   "outputs": [
    {
     "name": "stdout",
     "output_type": "stream",
     "text": [
      "total smokers 274\n",
      "smokers_persent 20.0\n"
     ]
    }
   ],
   "source": [
    "#print([[a,b] for a,b in sorted(categorize_age(couples_comprison(a,e)), key = lambda t:t[1])])\n",
    "smokers = e.count('yes')\n",
    "smokers_persent = smokers/len(e)\n",
    "print(\"total smokers\", smokers)\n",
    "print(\"smokers_persent\", 100*round(smokers_persent,2))"
   ]
  },
  {
   "cell_type": "markdown",
   "metadata": {},
   "source": [
    "smokers = 20% of all persons, this trend remains the same inside age categories"
   ]
  },
  {
   "cell_type": "markdown",
   "metadata": {},
   "source": [
    "## sex"
   ]
  },
  {
   "cell_type": "markdown",
   "metadata": {},
   "source": [
    "sex - bmi"
   ]
  },
  {
   "cell_type": "code",
   "execution_count": 123,
   "metadata": {},
   "outputs": [
    {
     "name": "stdout",
     "output_type": "stream",
     "text": [
      "[['male low', 8], ['male norm', 108], ['male high', 187], ['male wery high', 373], ['female low', 12], ['female norm', 117], ['female high', 199], ['female wery high', 334]]\n",
      "1338\n"
     ]
    }
   ],
   "source": [
    "sex_bmi = [[a,b] for a,b in sorted(categorize_bmi(couples_comprison(b,c)), key = lambda t:t[1])]\n",
    "bmi_categorys = [\"low\", \"norm\", \"high\", \"wery high\"]\n",
    "sex_categorys = [\"male\", \"female\"]\n",
    "sex_bmi_distrubution = []\n",
    "for i in sex_categorys:\n",
    "    for j in bmi_categorys:\n",
    "        count = 0\n",
    "        for sex_bmi_caple in sex_bmi:\n",
    "            if (j == sex_bmi_caple[1]) and(i == sex_bmi_caple[0]):\n",
    "                count +=1\n",
    "        sex_bmi_distrubution += [[str(i) + \" \" + str(j), count]]\n",
    "print(sex_bmi_distrubution)\n"
   ]
  },
  {
   "cell_type": "markdown",
   "metadata": {},
   "source": [
    "different bmi values equally spread among males and females"
   ]
  },
  {
   "cell_type": "markdown",
   "metadata": {},
   "source": [
    "sex - children"
   ]
  },
  {
   "cell_type": "code",
   "execution_count": 124,
   "metadata": {},
   "outputs": [
    {
     "name": "stdout",
     "output_type": "stream",
     "text": [
      "[['male 0', 285], ['male 1', 166], ['male 2', 121], ['male 3', 80], ['male 4', 14], ['male 5', 10], ['female 0', 289], ['female 1', 158], ['female 2', 119], ['female 3', 77], ['female 4', 11], ['female 5', 8]]\n",
      "1338\n"
     ]
    }
   ],
   "source": [
    "sex_children = [[a,b] for a,b in sorted(couples_comprison(b,d), key = lambda t:t[1])]\n",
    "\n",
    "ch_num_categorys = [0, 1, 2, 3, 4, 5]\n",
    "sex_categorys = [\"male\", \"female\"]\n",
    "sex_children_distrubution = []\n",
    "for i in sex_categorys:\n",
    "    for j in ch_num_categorys:\n",
    "        count = 0\n",
    "        for sex_children_caple in sex_children:\n",
    "            if (j == sex_children_caple[1]) and (i == sex_children_caple[0]):\n",
    "                count +=1\n",
    "        sex_children_distrubution += [[str(i) + \" \" + str(j), count]]\n",
    "print(sex_children_distrubution)\n",
    "ty = 0\n",
    "for i in sex_children_distrubution:\n",
    "    ty += i[1]\n",
    "print(ty)\n",
    "#print(sex_children)"
   ]
  },
  {
   "cell_type": "markdown",
   "metadata": {},
   "source": [
    "different amount of childrens are equally distributed between male and female. one interesting observation: \n",
    "- for each children category, there is slightly (2-3) more males than females"
   ]
  },
  {
   "cell_type": "markdown",
   "metadata": {},
   "source": [
    "sex - smoker"
   ]
  },
  {
   "cell_type": "code",
   "execution_count": 131,
   "metadata": {},
   "outputs": [
    {
     "name": "stdout",
     "output_type": "stream",
     "text": [
      "['male yes', 159, 'male no', 517, 'female yes', 115, 'female no', 547]\n"
     ]
    }
   ],
   "source": [
    "sex_smoker = [[a,b] for a,b in sorted(couples_comprison(b,e), key = lambda t:t[1])]\n",
    "smoker_categorys = [\"yes\", \"no\"]\n",
    "sex_categorys = [\"male\", \"female\"]\n",
    "sex_smoker_distrubution = []\n",
    "for i in sex_categorys:\n",
    "    for j in smoker_categorys:\n",
    "        count = 0\n",
    "        for sex_smoker_couple in sex_smoker:\n",
    "            if (sex_smoker_couple[1] == j) and (sex_smoker_couple[0] == i):\n",
    "                count += 1\n",
    "        sex_smoker_distrubution += [i +\" \"+ j , count]  \n",
    "print(sex_smoker_distrubution)"
   ]
  },
  {
   "cell_type": "markdown",
   "metadata": {},
   "source": [
    "there is slitely more smokers among males"
   ]
  },
  {
   "cell_type": "markdown",
   "metadata": {},
   "source": [
    "## bmi"
   ]
  },
  {
   "cell_type": "markdown",
   "metadata": {},
   "source": [
    "bmi - children"
   ]
  },
  {
   "cell_type": "code",
   "execution_count": 167,
   "metadata": {},
   "outputs": [
    {
     "name": "stdout",
     "output_type": "stream",
     "text": [
      "{'low': 21, 'norm': 254, 'high': 408, 'wery high': 782}\n",
      "1.05 1.13 1.06 1.11\n"
     ]
    }
   ],
   "source": [
    "children_bmi = [[a,b] for a,b in sorted(categorize_bmi(couples_comprison(d,c)), key = lambda t:t[1])]\n",
    "avarage_ch_per_bmi_categ = {\"low\": 0, \"norm\": 0, \"high\": 0, \"wery high\": 0}\n",
    "for z in children_bmi:\n",
    "    avarage_ch_per_bmi_categ[z[1]] += z[0]\n",
    "    \n",
    "low_bmi = bmi_categories().count(\"low\")\n",
    "norm_bmi = bmi_categories().count(\"norm\")\n",
    "high_bmi = bmi_categories().count(\"high\")\n",
    "wery_high_bmi = bmi_categories().count(\"wery high\")\n",
    "\n",
    "ql = round(avarage_ch_per_bmi_categ[\"low\"]/low_bmi,2)\n",
    "qn = round(avarage_ch_per_bmi_categ[\"norm\"]/norm_bmi,2)\n",
    "qh = round(avarage_ch_per_bmi_categ[\"high\"]/high_bmi,2)\n",
    "qwh = round(avarage_ch_per_bmi_categ[\"wery high\"]/wery_high_bmi,2)\n",
    "\n",
    "print(avarage_ch_per_bmi_categ)\n",
    "print(ql, qn, qh, qwh)"
   ]
  },
  {
   "cell_type": "markdown",
   "metadata": {},
   "source": [
    "average amount of children is almost equal for different bmi categories"
   ]
  },
  {
   "cell_type": "markdown",
   "metadata": {},
   "source": [
    "bmi - smoker"
   ]
  },
  {
   "cell_type": "code",
   "execution_count": 170,
   "metadata": {},
   "outputs": [],
   "source": [
    "smoke_bmi = [[a,b] for a,b in sorted(categorize_bmi(couples_comprison(e,c)), key = lambda t:t[1])]\n"
   ]
  },
  {
   "cell_type": "markdown",
   "metadata": {},
   "source": [
    "no dependence betweanesmpke and bmi"
   ]
  },
  {
   "cell_type": "markdown",
   "metadata": {},
   "source": [
    "## children\n",
    "smoke"
   ]
  },
  {
   "cell_type": "code",
   "execution_count": 173,
   "metadata": {},
   "outputs": [],
   "source": [
    "smoke_children = [[a,b] for a,b in sorted((couples_comprison(e,d)), key = lambda t:t[1])]"
   ]
  },
  {
   "cell_type": "markdown",
   "metadata": {},
   "source": [
    "no dependence between smoke and children"
   ]
  },
  {
   "cell_type": "markdown",
   "metadata": {},
   "source": [
    "it would be much more interesting to read this researc if I cnow (which I hope I will learn mouving further through the course) how to build a plots and standard distrubution. it also would be nice to aply Bayes theorem in this research it would show more correct results. and nice wisualusation could be done comparing normal an Bayes results."
   ]
  }
 ],
 "metadata": {
  "kernelspec": {
   "display_name": "Python 3",
   "language": "python",
   "name": "python3"
  },
  "language_info": {
   "codemirror_mode": {
    "name": "ipython",
    "version": 3
   },
   "file_extension": ".py",
   "mimetype": "text/x-python",
   "name": "python",
   "nbconvert_exporter": "python",
   "pygments_lexer": "ipython3",
   "version": "3.8.5"
  }
 },
 "nbformat": 4,
 "nbformat_minor": 4
}
